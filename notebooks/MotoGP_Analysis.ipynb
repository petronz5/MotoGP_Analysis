{
 "cells": [
  {
   "cell_type": "markdown",
   "id": "a350b227",
   "metadata": {},
   "source": [
    "# Quest 1 - Riders by Country\n",
    "\n",
    "In this analysis we want to explore which countries have produced the highest \n",
    "number of unique riders across all seasons and classes. "
   ]
  },
  {
   "cell_type": "code",
   "execution_count": null,
   "id": "f3d1aa85",
   "metadata": {},
   "outputs": [
    {
     "ename": "AttributeError",
     "evalue": "The '.style' accessor requires jinja2",
     "output_type": "error",
     "traceback": [
      "\u001b[31m---------------------------------------------------------------------------\u001b[39m",
      "\u001b[31mAttributeError\u001b[39m                            Traceback (most recent call last)",
      "\u001b[32m/var/folders/cf/80d_mwc57758rp9_tqrrg8pr0000gq/T/ipykernel_5604/2677000740.py\u001b[39m in \u001b[36m?\u001b[39m\u001b[34m()\u001b[39m\n\u001b[32m      6\u001b[39m df = load_data(\u001b[33m\"../data/RidersSummary.csv\"\u001b[39m)\n\u001b[32m      7\u001b[39m \n\u001b[32m      8\u001b[39m table_countries = stats_riders_by_country(df, top_n=\u001b[32m10\u001b[39m) \u001b[38;5;66;03m# restituisce tabella ordinata\u001b[39;00m\n\u001b[32m      9\u001b[39m \n\u001b[32m---> \u001b[39m\u001b[32m10\u001b[39m table_countries.style.set_properties(**{\n\u001b[32m     11\u001b[39m     \u001b[33m\"background-color\"\u001b[39m: \u001b[33m\"#f9f9f9\"\u001b[39m,   \u001b[38;5;66;03m# Sfondo chiaro per leggibilità\u001b[39;00m\n\u001b[32m     12\u001b[39m     \u001b[33m\"color\"\u001b[39m: \u001b[33m\"black\"\u001b[39m,                \u001b[38;5;66;03m# Testo nero\u001b[39;00m\n\u001b[32m     13\u001b[39m     \u001b[33m\"border-color\"\u001b[39m: \u001b[33m\"grey\"\u001b[39m,          \u001b[38;5;66;03m# Bordo grigio\u001b[39;00m\n",
      "\u001b[32m~/Desktop/motogp_analysis/.venv/lib/python3.12/site-packages/pandas/core/generic.py\u001b[39m in \u001b[36m?\u001b[39m\u001b[34m(self, name)\u001b[39m\n\u001b[32m   6314\u001b[39m             \u001b[38;5;28;01mand\u001b[39;00m name \u001b[38;5;28;01mnot\u001b[39;00m \u001b[38;5;28;01min\u001b[39;00m self._accessors\n\u001b[32m   6315\u001b[39m             \u001b[38;5;28;01mand\u001b[39;00m self._info_axis._can_hold_identifiers_and_holds_name(name)\n\u001b[32m   6316\u001b[39m         ):\n\u001b[32m   6317\u001b[39m             \u001b[38;5;28;01mreturn\u001b[39;00m self[name]\n\u001b[32m-> \u001b[39m\u001b[32m6318\u001b[39m         \u001b[38;5;28;01mreturn\u001b[39;00m object.__getattribute__(self, name)\n",
      "\u001b[32m~/Desktop/motogp_analysis/.venv/lib/python3.12/site-packages/pandas/core/frame.py\u001b[39m in \u001b[36m?\u001b[39m\u001b[34m(self)\u001b[39m\n\u001b[32m   1441\u001b[39m         \"\"\"\n\u001b[32m   1442\u001b[39m         \u001b[38;5;66;03m# Raise AttributeError so that inspect works even if jinja2 is not installed.\u001b[39;00m\n\u001b[32m   1443\u001b[39m         has_jinja2 = import_optional_dependency(\u001b[33m\"jinja2\"\u001b[39m, errors=\u001b[33m\"ignore\"\u001b[39m)\n\u001b[32m   1444\u001b[39m         \u001b[38;5;28;01mif\u001b[39;00m \u001b[38;5;28;01mnot\u001b[39;00m has_jinja2:\n\u001b[32m-> \u001b[39m\u001b[32m1445\u001b[39m             \u001b[38;5;28;01mraise\u001b[39;00m AttributeError(\u001b[33m\"The '.style' accessor requires jinja2\"\u001b[39m)\n\u001b[32m   1446\u001b[39m \n\u001b[32m   1447\u001b[39m         \u001b[38;5;28;01mfrom\u001b[39;00m pandas.io.formats.style \u001b[38;5;28;01mimport\u001b[39;00m Styler\n\u001b[32m   1448\u001b[39m \n",
      "\u001b[31mAttributeError\u001b[39m: The '.style' accessor requires jinja2"
     ]
    }
   ],
   "source": [
    "import sys\n",
    "sys.path.append(\"..\")  # così risale di una cartella\n",
    "from src.utils import load_data, stats_riders_by_country\n",
    "\n",
    "# Load dataset\n",
    "df = load_data(\"../data/RidersSummary.csv\")\n",
    "\n",
    "table_countries = stats_riders_by_country(df, top_n=10) # restituisce tabella ordinata\n",
    "\n",
    "table_countries.style.set_properties(**{\n",
    "    \"background-color\": \"#f9f9f9\",   # Sfondo chiaro\n",
    "    \"color\": \"black\",                # Testo nero\n",
    "    \"border-color\": \"grey\",          # Bordo grigio\n",
    "    \"border-width\": \"1px\",           # Spessore bordo\n",
    "    \"border-style\": \"solid\"          # Bordo solido\n",
    "}).hide(axis=\"index\")\n"
   ]
  }
 ],
 "metadata": {
  "kernelspec": {
   "display_name": ".venv (3.12.9)",
   "language": "python",
   "name": "python3"
  },
  "language_info": {
   "codemirror_mode": {
    "name": "ipython",
    "version": 3
   },
   "file_extension": ".py",
   "mimetype": "text/x-python",
   "name": "python",
   "nbconvert_exporter": "python",
   "pygments_lexer": "ipython3",
   "version": "3.12.9"
  }
 },
 "nbformat": 4,
 "nbformat_minor": 5
}
