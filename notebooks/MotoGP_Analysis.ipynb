{
 "cells": [
  {
   "cell_type": "code",
   "execution_count": 5,
   "id": "b745d8ac",
   "metadata": {},
   "outputs": [
    {
     "name": "stdout",
     "output_type": "stream",
     "text": [
      "Vittorie: 26\n",
      "Podii: 49\n"
     ]
    }
   ],
   "source": [
    "import sys\n",
    "sys.path.append('../src')\n",
    "\n",
    "from utils import load_data, get_wins_and_podiums\n",
    "\n",
    "df = load_data('../data/Race.csv')\n",
    "\n",
    "# Sostituisci 'C. Vietti' con il pilota che vuoi analizzare\n",
    "wins, podiums = get_wins_and_podiums(df, 'F. Bagnaia')\n",
    "print(f\"Vittorie: {wins}\")\n",
    "print(f\"Podii: {podiums}\")"
   ]
  },
  {
   "cell_type": "code",
   "execution_count": null,
   "id": "1dd0ca6b",
   "metadata": {},
   "outputs": [
    {
     "ename": "NameError",
     "evalue": "name 'pd' is not defined",
     "output_type": "error",
     "traceback": [
      "\u001b[31m---------------------------------------------------------------------------\u001b[39m",
      "\u001b[31mNameError\u001b[39m                                 Traceback (most recent call last)",
      "\u001b[36mCell\u001b[39m\u001b[36m \u001b[39m\u001b[32mIn[10]\u001b[39m\u001b[32m, line 18\u001b[39m\n\u001b[32m     15\u001b[39m positions = get_riders_positions_by_race(df, rider1, rider2, session, year)\n\u001b[32m     17\u001b[39m \u001b[38;5;66;03m# Assicurati che le posizioni siano numeriche\u001b[39;00m\n\u001b[32m---> \u001b[39m\u001b[32m18\u001b[39m positions = positions.apply(\u001b[43mpd\u001b[49m.to_numeric, errors=\u001b[33m'\u001b[39m\u001b[33mcoerce\u001b[39m\u001b[33m'\u001b[39m)\n\u001b[32m     20\u001b[39m \u001b[38;5;66;03m# Grafico per ogni gara\u001b[39;00m\n\u001b[32m     21\u001b[39m plt.figure(figsize=(\u001b[32m15\u001b[39m, \u001b[32m6\u001b[39m))\n",
      "\u001b[31mNameError\u001b[39m: name 'pd' is not defined"
     ]
    }
   ],
   "source": [
    "import sys\n",
    "sys.path.append('../src')\n",
    "import importlib\n",
    "import utils\n",
    "import pandas as pd\n",
    "importlib.reload(utils)\n",
    "from utils import load_data, get_riders_positions_by_race\n",
    "\n",
    "# Parametri\n",
    "rider1 = 'F. Bagnaia'\n",
    "rider2 = 'M. Marquez'\n",
    "session = 'MotoGP'\n",
    "year = 2023\n",
    "\n",
    "df = load_data('../data/Race.csv')\n",
    "positions = get_riders_positions_by_race(df, rider1, rider2, session, year)\n",
    "\n",
    "# Assicurati che le posizioni siano numeriche\n",
    "positions = positions.apply(pd.to_numeric, errors='coerce')\n",
    "\n",
    "# Grafico per ogni gara\n",
    "plt.figure(figsize=(15, 6))\n",
    "for i, gp in enumerate(positions.index):\n",
    "    plt.subplot(1, len(positions.index), i+1)\n",
    "    plt.bar([rider1, rider2], positions.loc[gp], color=['blue', 'red'])\n",
    "    plt.title(gp)\n",
    "    plt.ylabel('Posizione')\n",
    "    plt.gca().invert_yaxis()  # Inverti l'asse Y: 1 è la posizione migliore\n",
    "    plt.xticks(rotation=45)\n",
    "plt.tight_layout()\n",
    "plt.show()"
   ]
  }
 ],
 "metadata": {
  "kernelspec": {
   "display_name": ".venv (3.12.9)",
   "language": "python",
   "name": "python3"
  },
  "language_info": {
   "codemirror_mode": {
    "name": "ipython",
    "version": 3
   },
   "file_extension": ".py",
   "mimetype": "text/x-python",
   "name": "python",
   "nbconvert_exporter": "python",
   "pygments_lexer": "ipython3",
   "version": "3.12.9"
  }
 },
 "nbformat": 4,
 "nbformat_minor": 5
}
